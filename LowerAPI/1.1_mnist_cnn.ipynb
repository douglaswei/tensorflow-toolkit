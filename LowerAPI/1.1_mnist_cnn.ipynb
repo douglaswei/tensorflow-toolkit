{
 "cells": [
  {
   "cell_type": "markdown",
   "metadata": {},
   "source": [
    "1. load data\n",
    "2. build the network\n",
    "3. run train & predicate & validate\n",
    "4. load tensorboard"
   ]
  },
  {
   "cell_type": "code",
   "execution_count": null,
   "metadata": {},
   "outputs": [],
   "source": [
    "import tensorflow as tf\n",
    "from tensorflow.examples.tutorials.mnist import input_data\n",
    "import datetime\n",
    "mnist = input_data.read_data_sets(\"/data/mnist\", one_hot=True)\n",
    "\n",
    "# 全局参数\n",
    "FC_NODE_N = 1024\n",
    "BATCH_SIZE = 100\n",
    "KEEP_PROB = 0.7\n",
    "BATCH_N = mnist.train.num_examples // BATCH_SIZE\n",
    "PADDING = 'SAME'\n",
    " "
   ]
  },
  {
   "cell_type": "markdown",
   "metadata": {},
   "source": [
    "### 构建工具函数"
   ]
  },
  {
   "cell_type": "code",
   "execution_count": null,
   "metadata": {},
   "outputs": [],
   "source": [
    "# w*x + b\n",
    "def var_weight(shape):\n",
    "  initial = tf.random_normal(shape=shape, stddev=0.1)\n",
    "  return tf.Variable(initial)\n",
    "\n",
    "\n",
    "def var_bias(shape):\n",
    "  return tf.Variable(tf.constant(0.1, shape=shape))\n",
    "\n",
    "\n",
    "# 定义二维卷积层\n",
    "def conv2d(x, w):\n",
    "  return tf.nn.conv2d(x, w, strides=[1, 1, 1, 1], padding=PADDING)\n",
    "\n",
    "\n",
    "# 定义池化层\n",
    "def pool_2x2(x):\n",
    "  return tf.nn.max_pool(x, strides=[1, 2, 2, 1], ksize=[1, 2, 2, 1], padding=PADDING)"
   ]
  },
  {
   "cell_type": "markdown",
   "metadata": {},
   "source": [
    "### 构建网络"
   ]
  },
  {
   "cell_type": "code",
   "execution_count": null,
   "metadata": {},
   "outputs": [],
   "source": [
    "# 图像特征输入层\n",
    "with tf.name_scope(\"input\"):\n",
    "  x = tf.placeholder(tf.float32, [None, 784])\n",
    "  y = tf.placeholder(tf.float32, [None, 10])\n",
    "\n",
    "  x_image = tf.reshape(x, shape=[-1, 28, 28, 1])\n",
    "\n",
    "# layer1\n",
    "with tf.name_scope(\"conv_1\"):\n",
    "  w_conv1 = var_weight([5, 5, 1, 32])\n",
    "  b_conv1 = var_bias([32])\n",
    "\n",
    "  # with tf.name_scope(\"max_pool_1\"):\n",
    "  h_conv1 = tf.nn.relu(conv2d(x_image, w_conv1) + b_conv1)\n",
    "  h_pool1 = pool_2x2(h_conv1)\n",
    "\n",
    "# layer2\n",
    "with tf.name_scope(\"conv_2\"):\n",
    "  w_conv2 = var_weight([5, 5, 32, 64])\n",
    "  b_conv2 = var_bias([64])\n",
    "\n",
    "  # with tf.name_scope(\"max_pool_2\"):\n",
    "  h_conv2 = tf.nn.relu(conv2d(h_pool1, w_conv2) + b_conv2)\n",
    "  h_pool2 = pool_2x2(h_conv2)\n",
    "\n",
    "# full connected layer1\n",
    "with tf.name_scope(\"full_connected_1\"):\n",
    "  w_fc1 = var_weight([7 * 7 * 64, FC_NODE_N])\n",
    "  b_fc1 = var_bias([FC_NODE_N])\n",
    "\n",
    "  h_pool2_flat = tf.reshape(h_pool2, [-1, 7 * 7 * 64])\n",
    "  h_fc1 = tf.nn.relu(tf.matmul(h_pool2_flat, w_fc1) + b_fc1)\n",
    "  keep_prob = tf.placeholder(tf.float32)\n",
    "  h_fc1_drop = tf.nn.dropout(h_fc1, keep_prob=keep_prob)\n",
    "\n",
    "# full connected layer2\n",
    "with tf.name_scope(\"full_connected_2\"):\n",
    "  w_fc2 = var_weight([1024, 10])\n",
    "  b_fc2 = var_bias([10])\n",
    "\n",
    "  output = tf.matmul(h_fc1_drop, w_fc2) + b_fc2\n",
    "\n",
    "with tf.name_scope(\"softmax\"):\n",
    "  cross_entropy = tf.reduce_mean(tf.nn.softmax_cross_entropy_with_logits(labels=y, logits=output))\n",
    "  tf.summary.scalar(\"cross_entropy\", cross_entropy)\n",
    "\n",
    "with tf.name_scope(\"train\"):\n",
    "  learning_rate = tf.Variable(0.001, tf.float32)\n",
    "  train_step = tf.train.AdamOptimizer(learning_rate=learning_rate).minimize(cross_entropy)\n",
    "\n",
    "  accuracy = tf.reduce_mean(tf.cast(tf.equal(tf.argmax(output, 1), tf.argmax(y, 1)), dtype=tf.float32))\n",
    "  tf.summary.scalar(\"train_accuracy\", accuracy)\n",
    "\n",
    "\n",
    "merged = tf.summary.merge_all()"
   ]
  },
  {
   "cell_type": "markdown",
   "metadata": {},
   "source": [
    "### 训练部分"
   ]
  },
  {
   "cell_type": "code",
   "execution_count": null,
   "metadata": {},
   "outputs": [],
   "source": [
    "\n",
    "with tf.Session() as sess:\n",
    "  train_writer = tf.summary.FileWriter('logs/mnist/train', sess.graph)\n",
    "  test_writer = tf.summary.FileWriter('logs/mnist/test', sess.graph)\n",
    "  sess.run(tf.global_variables_initializer())\n",
    "  for epoch in range(1000):\n",
    "    sess.run(tf.assign(learning_rate, 0.001 * (0.98 ** int(epoch/10))))\n",
    "    batch_x, batch_y = mnist.train.next_batch(BATCH_SIZE)\n",
    "    sess.run(train_step, feed_dict={x: batch_x, y: batch_y, keep_prob: KEEP_PROB})\n",
    "\n",
    "    summary = sess.run(merged, feed_dict={x: batch_x, y: batch_y, keep_prob: 1.0})\n",
    "    train_writer.add_summary(summary, epoch)\n",
    "\n",
    "    batch_x, batch_y = mnist.test.next_batch(BATCH_SIZE)\n",
    "    summary = sess.run(merged, feed_dict={x: batch_x, y: batch_y, keep_prob: 1.0})\n",
    "    test_writer.add_summary(summary, epoch)\n",
    "\n",
    "    \n",
    "    if epoch % 10 == 0:\n",
    "      train_acc = sess.run(accuracy, feed_dict={x: mnist.train.images, y: mnist.train.labels, keep_prob: 1.0})\n",
    "      test_acc = sess.run(accuracy, feed_dict={x: mnist.test.images, y: mnist.test.labels, keep_prob: 1.0})\n",
    "      print datetime.datetime.now(), \"epoch [%d], lr [%f], train_acc[%f], test_acc[%f] %s\" % \\\n",
    "                                     (epoch, sess.run(learning_rate), train_acc, test_acc)"
   ]
  }
 ],
 "metadata": {
  "kernelspec": {
   "display_name": "Python 2",
   "language": "python",
   "name": "python2"
  },
  "language_info": {
   "codemirror_mode": {
    "name": "ipython",
    "version": 2
   },
   "file_extension": ".py",
   "mimetype": "text/x-python",
   "name": "python",
   "nbconvert_exporter": "python",
   "pygments_lexer": "ipython2",
   "version": "2.7.12"
  }
 },
 "nbformat": 4,
 "nbformat_minor": 2
}
