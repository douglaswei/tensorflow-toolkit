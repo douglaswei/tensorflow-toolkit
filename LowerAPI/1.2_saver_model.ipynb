{
 "cells": [
  {
   "cell_type": "markdown",
   "metadata": {},
   "source": [
    "#### tf.Variable() vs tf.get_variable()\n",
    "1. tf.Variable() 受tf.name_scope()作用；tf.get_variable()只受tf.name_space()作用\n",
    "2. tf.Variable() name可以一样，tf内部有机制保证不会重名；tf.get_variable()"
   ]
  },
  {
   "cell_type": "code",
   "execution_count": 1,
   "metadata": {},
   "outputs": [
    {
     "name": "stdout",
     "output_type": "stream",
     "text": [
      "Model saved in file: /tmp/model.ckpt\n"
     ]
    }
   ],
   "source": [
    "### 保存变量\n",
    "\n",
    "import tensorflow as tf\n",
    "\n",
    "# Create some variables.\n",
    "v1 = tf.get_variable(\"v1\", shape=[3], initializer = tf.zeros_initializer)\n",
    "v2 = tf.get_variable(\"v2\", shape=[5], initializer = tf.zeros_initializer)\n",
    "\n",
    "inc_v1 = v1.assign(v1+1)\n",
    "dec_v2 = v2.assign(v2-1)\n",
    "\n",
    "# Add an op to initialize the variables.\n",
    "init_op = tf.global_variables_initializer()\n",
    "\n",
    "# Add ops to save and restore all the variables.\n",
    "saver = tf.train.Saver()\n",
    "\n",
    "# Later, launch the model, initialize the variables, do some work, and save the\n",
    "# variables to disk.\n",
    "with tf.Session() as sess:\n",
    "  sess.run(init_op)\n",
    "  # Do some work with the model.\n",
    "  sess.run(inc_v1)\n",
    "  sess.run(dec_v2)\n",
    "  # Save the variables to disk.\n",
    "  save_path = saver.save(sess, \"/data/tmp/model.ckpt\")\n",
    "  print(\"Model saved in file: %s\" % save_path)\n"
   ]
  },
  {
   "cell_type": "code",
   "execution_count": 2,
   "metadata": {},
   "outputs": [
    {
     "name": "stdout",
     "output_type": "stream",
     "text": [
      "INFO:tensorflow:Restoring parameters from /tmp/model.ckpt\n",
      "Model restored.\n",
      "v1 : [ 1.  1.  1.]\n",
      "v2 : [-1. -1. -1. -1. -1.]\n"
     ]
    }
   ],
   "source": [
    "### 加载变量\n",
    "tf.reset_default_graph()\n",
    "\n",
    "# Create some variables.\n",
    "v1 = tf.get_variable(\"v1\", shape=[3])\n",
    "v2 = tf.get_variable(\"v2\", shape=[5])\n",
    "\n",
    "# Add ops to save and restore all the variables.\n",
    "saver = tf.train.Saver()\n",
    "\n",
    "# Later, launch the model, use the saver to restore variables from disk, and\n",
    "# do some work with the model.\n",
    "with tf.Session() as sess:\n",
    "  # Restore variables from disk.\n",
    "  saver.restore(sess, \"/tmp/model.ckpt\")\n",
    "  print(\"Model restored.\")\n",
    "  # Check the values of the variables\n",
    "  print(\"v1 : %s\" % v1.eval())\n",
    "  print(\"v2 : %s\" % v2.eval())"
   ]
  },
  {
   "cell_type": "code",
   "execution_count": 9,
   "metadata": {},
   "outputs": [
    {
     "name": "stdout",
     "output_type": "stream",
     "text": [
      "INFO:tensorflow:Restoring parameters from /tmp/model.ckpt\n",
      "Model restored.\n",
      "v1 : [-0.26802516 -0.48599124  0.91229701]\n",
      "v2 : [-1. -1. -1. -1. -1.]\n"
     ]
    }
   ],
   "source": [
    "# 加载部分变量\n",
    "tf.reset_default_graph()\n",
    "\n",
    "# Create some variables.\n",
    "v1 = tf.get_variable(\"v1\", shape=[3])\n",
    "v2 = tf.get_variable(\"v2\", shape=[5])\n",
    "\n",
    "# Add ops to save and restore all the variables.\n",
    "saver = tf.train.Saver([v2,])\n",
    "\n",
    "# Later, launch the model, use the saver to restore variables from disk, and\n",
    "# do some work with the model.\n",
    "with tf.Session() as sess:\n",
    "  # Restore variables from disk.\n",
    "  saver.restore(sess, \"/tmp/model.ckpt\")\n",
    "  print(\"Model restored.\")\n",
    "  # Check the values of the variables\n",
    "  v1.initializer.run()\n",
    "  print(\"v1 : %s\" % v1.eval())\n",
    "  print(\"v2 : %s\" % v2.eval())"
   ]
  },
  {
   "cell_type": "markdown",
   "metadata": {},
   "source": [
    "#### 概念\n",
    "MetaGraph: dataflow graph, plus its associated variables, assets, and signatures\n",
    "MetaGraphDef: protocol buffer representation of a MetaGraph\n",
    "signature: the set of inputs to and outputs from a graph"
   ]
  },
  {
   "cell_type": "code",
   "execution_count": 10,
   "metadata": {
    "scrolled": true
   },
   "outputs": [
    {
     "name": "stdout",
     "output_type": "stream",
     "text": [
      "Extracting /data/mnist/train-images-idx3-ubyte.gz\n",
      "Extracting /data/mnist/train-labels-idx1-ubyte.gz\n",
      "Extracting /data/mnist/t10k-images-idx3-ubyte.gz\n",
      "Extracting /data/mnist/t10k-labels-idx1-ubyte.gz\n"
     ]
    }
   ],
   "source": [
    "# build the graph for train & eval\n",
    "\n",
    "tf.reset_default_graph()\n",
    "from tensorflow.examples.tutorials.mnist import input_data\n",
    "import datetime\n",
    "mnist = input_data.read_data_sets(\"/data/mnist\", one_hot=True)\n",
    "\n",
    "# 全局参数\n",
    "FC_NODE_N = 1024\n",
    "BATCH_SIZE = 100\n",
    "KEEP_PROB = 0.7\n",
    "BATCH_N = mnist.train.num_examples // BATCH_SIZE\n",
    "PADDING = 'SAME'\n",
    "\n",
    "# w*x + b\n",
    "def var_weight(shape):\n",
    "  initial = tf.random_normal(shape=shape, stddev=0.1)\n",
    "  return tf.Variable(initial)\n",
    "\n",
    "def var_bias(shape):\n",
    "  return tf.Variable(tf.constant(0.1, shape=shape))\n",
    "\n",
    "# 定义二维卷积层\n",
    "def conv2d(x, w):\n",
    "  return tf.nn.conv2d(x, w, strides=[1, 1, 1, 1], padding=PADDING)\n",
    "\n",
    "# 定义池化层\n",
    "def pool_2x2(x):\n",
    "  return tf.nn.max_pool(x, strides=[1, 2, 2, 1], ksize=[1, 2, 2, 1], padding=PADDING)\n",
    "\n",
    "# 图像特征输入层\n",
    "with tf.name_scope(\"input\"):\n",
    "  x = tf.placeholder(tf.float32, [None, 784])\n",
    "  y = tf.placeholder(tf.float32, [None, 10])\n",
    "\n",
    "  x_image = tf.reshape(x, shape=[-1, 28, 28, 1])\n",
    "\n",
    "# layer1\n",
    "with tf.name_scope(\"conv_1\"):\n",
    "  w_conv1 = var_weight([5, 5, 1, 32])\n",
    "  b_conv1 = var_bias([32])\n",
    "\n",
    "  # with tf.name_scope(\"max_pool_1\"):\n",
    "  h_conv1 = tf.nn.relu(conv2d(x_image, w_conv1) + b_conv1)\n",
    "  h_pool1 = pool_2x2(h_conv1)\n",
    "\n",
    "# layer2\n",
    "with tf.name_scope(\"conv_2\"):\n",
    "  w_conv2 = var_weight([5, 5, 32, 64])\n",
    "  b_conv2 = var_bias([64])\n",
    "\n",
    "  # with tf.name_scope(\"max_pool_2\"):\n",
    "  h_conv2 = tf.nn.relu(conv2d(h_pool1, w_conv2) + b_conv2)\n",
    "  h_pool2 = pool_2x2(h_conv2)\n",
    "\n",
    "# full connected layer1\n",
    "with tf.name_scope(\"full_connected_1\"):\n",
    "  w_fc1 = var_weight([7 * 7 * 64, FC_NODE_N])\n",
    "  b_fc1 = var_bias([FC_NODE_N])\n",
    "\n",
    "  h_pool2_flat = tf.reshape(h_pool2, [-1, 7 * 7 * 64])\n",
    "  h_fc1 = tf.nn.relu(tf.matmul(h_pool2_flat, w_fc1) + b_fc1)\n",
    "  keep_prob = tf.placeholder(tf.float32)\n",
    "  h_fc1_drop = tf.nn.dropout(h_fc1, keep_prob=keep_prob)\n",
    "\n",
    "# full connected layer2\n",
    "with tf.name_scope(\"full_connected_2\"):\n",
    "  w_fc2 = var_weight([1024, 10])\n",
    "  b_fc2 = var_bias([10])\n",
    "\n",
    "  output = tf.matmul(h_fc1_drop, w_fc2) + b_fc2\n",
    "\n",
    "with tf.name_scope(\"softmax\"):\n",
    "  cross_entropy = tf.reduce_mean(tf.nn.softmax_cross_entropy_with_logits(labels=y, logits=output))\n",
    "  tf.summary.scalar(\"cross_entropy\", cross_entropy)\n",
    "\n",
    "with tf.name_scope(\"train\"):\n",
    "  learning_rate = tf.Variable(0.001, tf.float32)\n",
    "  train_step = tf.train.AdamOptimizer(learning_rate=learning_rate).minimize(cross_entropy)\n",
    "\n",
    "  accuracy = tf.reduce_mean(tf.cast(tf.equal(tf.argmax(output, 1), tf.argmax(y, 1)), dtype=tf.float32))\n",
    "  tf.summary.scalar(\"train_accuracy\", accuracy)\n",
    "\n",
    "merged = tf.summary.merge_all()\n"
   ]
  },
  {
   "cell_type": "code",
   "execution_count": null,
   "metadata": {},
   "outputs": [
    {
     "name": "stdout",
     "output_type": "stream",
     "text": [
      "2018-01-25 06:27:34.095430 epoch [0], lr [0.001000], train_acc[0.102382], test_acc[0.106100] *\n",
      "2018-01-25 06:28:02.638358 epoch [10], lr [0.000980], train_acc[0.631782], test_acc[0.641500] *\n",
      "2018-01-25 06:28:31.053368 epoch [20], lr [0.000960], train_acc[0.781836], test_acc[0.798800] *\n",
      "2018-01-25 06:28:59.140860 epoch [30], lr [0.000941], train_acc[0.875055], test_acc[0.882000] *\n",
      "2018-01-25 06:29:27.183709 epoch [40], lr [0.000922], train_acc[0.914782], test_acc[0.922300] *\n",
      "2018-01-25 06:29:55.318965 epoch [50], lr [0.000904], train_acc[0.929782], test_acc[0.933400] *\n",
      "2018-01-25 06:30:23.185832 epoch [60], lr [0.000886], train_acc[0.931436], test_acc[0.935800] *\n",
      "2018-01-25 06:30:52.099060 epoch [70], lr [0.000868], train_acc[0.937982], test_acc[0.942000] *\n",
      "2018-01-25 06:31:20.610216 epoch [80], lr [0.000851], train_acc[0.945618], test_acc[0.948100] *\n",
      "2018-01-25 06:31:48.802366 epoch [90], lr [0.000834], train_acc[0.952073], test_acc[0.954300] *\n",
      "2018-01-25 06:32:16.444840 epoch [100], lr [0.000817], train_acc[0.951418], test_acc[0.954300] \n",
      "2018-01-25 06:32:46.074978 epoch [110], lr [0.000801], train_acc[0.953109], test_acc[0.953000] \n",
      "2018-01-25 06:33:12.987944 epoch [120], lr [0.000785], train_acc[0.960527], test_acc[0.960800] *\n",
      "2018-01-25 06:33:42.202828 epoch [130], lr [0.000769], train_acc[0.960818], test_acc[0.960500] \n",
      "2018-01-25 06:34:11.657221 epoch [140], lr [0.000754], train_acc[0.962364], test_acc[0.963200] *\n",
      "2018-01-25 06:34:39.230850 epoch [150], lr [0.000739], train_acc[0.966636], test_acc[0.965200] *\n",
      "2018-01-25 06:35:08.488305 epoch [160], lr [0.000724], train_acc[0.966527], test_acc[0.966200] *\n",
      "2018-01-25 06:35:36.749319 epoch [170], lr [0.000709], train_acc[0.965800], test_acc[0.964800] \n",
      "2018-01-25 06:36:04.122093 epoch [180], lr [0.000695], train_acc[0.969618], test_acc[0.970900] *\n",
      "2018-01-25 06:36:32.674374 epoch [190], lr [0.000681], train_acc[0.970073], test_acc[0.970900] \n",
      "2018-01-25 06:36:59.558073 epoch [200], lr [0.000668], train_acc[0.972564], test_acc[0.973200] *\n",
      "2018-01-25 06:37:28.240678 epoch [210], lr [0.000654], train_acc[0.973000], test_acc[0.973000] \n",
      "2018-01-25 06:37:54.391958 epoch [220], lr [0.000641], train_acc[0.974273], test_acc[0.974000] *\n",
      "2018-01-25 06:38:22.627610 epoch [230], lr [0.000628], train_acc[0.973073], test_acc[0.974700] *\n",
      "2018-01-25 06:38:50.706566 epoch [240], lr [0.000616], train_acc[0.976473], test_acc[0.975900] *\n",
      "2018-01-25 06:39:19.921612 epoch [250], lr [0.000603], train_acc[0.977000], test_acc[0.977200] *\n",
      "2018-01-25 06:39:49.404764 epoch [260], lr [0.000591], train_acc[0.976255], test_acc[0.975700] \n",
      "2018-01-25 06:40:15.454753 epoch [270], lr [0.000580], train_acc[0.976382], test_acc[0.977000] \n",
      "2018-01-25 06:40:43.778805 epoch [280], lr [0.000568], train_acc[0.977036], test_acc[0.978100] *\n",
      "2018-01-25 06:41:11.372298 epoch [290], lr [0.000557], train_acc[0.978527], test_acc[0.977100] \n",
      "2018-01-25 06:41:38.426060 epoch [300], lr [0.000545], train_acc[0.979327], test_acc[0.978200] *\n",
      "2018-01-25 06:42:05.857654 epoch [310], lr [0.000535], train_acc[0.979691], test_acc[0.979000] *\n",
      "2018-01-25 06:42:33.637518 epoch [320], lr [0.000524], train_acc[0.978982], test_acc[0.979100] *\n",
      "2018-01-25 06:43:01.065284 epoch [330], lr [0.000513], train_acc[0.979818], test_acc[0.977700] \n"
     ]
    }
   ],
   "source": [
    "# 训练 & 保存模型\n",
    "MAX_STEP_NOIMPOROVEMENT = 100\n",
    "MAX_ACC = 0\n",
    "step_noimporvement = 0\n",
    "MODEL_PATH = \"/data/mnist_saver/mnist_cnn\"\n",
    "\n",
    "saver = tf.train.Saver()\n",
    "\n",
    "with tf.Session() as sess:\n",
    "  train_writer = tf.summary.FileWriter('logs/mnist/train', sess.graph)\n",
    "  test_writer = tf.summary.FileWriter('logs/mnist/test', sess.graph)\n",
    "  sess.run(tf.global_variables_initializer())\n",
    "  for epoch in range(10000):\n",
    "    sess.run(tf.assign(learning_rate, 0.001 * (0.98 ** int(epoch/10))))\n",
    "    batch_x, batch_y = mnist.train.next_batch(BATCH_SIZE)\n",
    "    sess.run(train_step, feed_dict={x: batch_x, y: batch_y, keep_prob: KEEP_PROB})\n",
    "\n",
    "    summary = sess.run(merged, feed_dict={x: batch_x, y: batch_y, keep_prob: 1.0})\n",
    "    train_writer.add_summary(summary, epoch)\n",
    "\n",
    "    batch_x, batch_y = mnist.test.next_batch(BATCH_SIZE)\n",
    "    summary = sess.run(merged, feed_dict={x: batch_x, y: batch_y, keep_prob: 1.0})\n",
    "    test_writer.add_summary(summary, epoch)\n",
    "    \n",
    "    if epoch % 10 == 0:\n",
    "      train_acc = sess.run(accuracy, feed_dict={x: mnist.train.images, y: mnist.train.labels, keep_prob: 1.0})\n",
    "      test_acc = sess.run(accuracy, feed_dict={x: mnist.test.images, y: mnist.test.labels, keep_prob: 1.0})\n",
    "      print datetime.datetime.now(), \"epoch [%d], lr [%f], train_acc[%f], test_acc[%f] %s\" % \\\n",
    "            (epoch, sess.run(learning_rate), train_acc, test_acc, '*' if test_acc > MAX_ACC else '')\n",
    "      if (test_acc > MAX_ACC):\n",
    "        MAX_ACC = test_acc\n",
    "        step_noimporvement = 0\n",
    "        saver.save(sess, MODEL_PATH, global_step=epoch)\n",
    "    \n",
    "      if (step_noimporvement > MAX_STEP_NOIMPOROVEMENT):\n",
    "        break\n",
    "      else:\n",
    "        step_noimporvement += 1"
   ]
  },
  {
   "cell_type": "code",
   "execution_count": 82,
   "metadata": {},
   "outputs": [
    {
     "name": "stdout",
     "output_type": "stream",
     "text": [
      "INFO:tensorflow:Restoring parameters from /data/mnist_saver/mnist_cnn-50\n",
      "2018-01-25 06:25:52.494812 train_acc[0.920473], test_acc[0.924600]\n"
     ]
    }
   ],
   "source": [
    "# 加载模型\n",
    "\n",
    "# 找到最后存储的模型\n",
    "import os\n",
    "max_suffix = None\n",
    "folder = os.path.sep.join(MODEL_PATH.split(os.path.sep)[:-1])\n",
    "for filename in os.listdir(folder):\n",
    "  pos = filename.find(\".meta\")\n",
    "  if pos > 0:\n",
    "    suffix = int(filename[10: pos])\n",
    "    max_suffix = suffix if max_suffix is None or max_suffix < suffix else max_suffix\n",
    "\n",
    "last_model_path = MODEL_PATH + '-' + str(max_suffix)\n",
    "model_path\n",
    "\n",
    "def print_acc():\n",
    "  train_acc = sess.run(accuracy, feed_dict={x: mnist.train.images, y: mnist.train.labels, keep_prob: 1.0})\n",
    "  test_acc = sess.run(accuracy, feed_dict={x: mnist.test.images, y: mnist.test.labels, keep_prob: 1.0})\n",
    "  print datetime.datetime.now(), \"train_acc[%f], test_acc[%f]\" % (train_acc, test_acc)\n",
    "\n",
    "# 重新初始化参数，查看准确率\n",
    "with tf.Session() as sess:\n",
    "#   sess.run(tf.global_variables_initializer())\n",
    "#   print_acc()\n",
    "    \n",
    "# 加载模型后，查看准确率\n",
    "  saver.restore(sess, last_model_path)\n",
    "  print_acc()\n",
    "  pass"
   ]
  }
 ],
 "metadata": {
  "kernelspec": {
   "display_name": "Python 2",
   "language": "python",
   "name": "python2"
  },
  "language_info": {
   "codemirror_mode": {
    "name": "ipython",
    "version": 2
   },
   "file_extension": ".py",
   "mimetype": "text/x-python",
   "name": "python",
   "nbconvert_exporter": "python",
   "pygments_lexer": "ipython2",
   "version": "2.7.12"
  }
 },
 "nbformat": 4,
 "nbformat_minor": 1
}
